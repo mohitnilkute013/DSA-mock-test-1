{
 "cells": [
  {
   "cell_type": "code",
   "execution_count": 19,
   "id": "a7d47456",
   "metadata": {},
   "outputs": [],
   "source": [
    "def move_zeros(a):\n",
    "    \n",
    "    '''\n",
    "        First Counts the number of zeros in that array and removes\n",
    "    '''\n",
    "    count = 0\n",
    "    for i in a:\n",
    "        if i == 0:\n",
    "            count += 1\n",
    "            \n",
    "#     print(count)\n",
    "    \n",
    "    a = [x for x in a if x !=0] + [0]*count\n",
    "#     print(a)\n",
    "    \n",
    "    return a"
   ]
  },
  {
   "cell_type": "code",
   "execution_count": 20,
   "id": "48f632b0",
   "metadata": {},
   "outputs": [],
   "source": [
    "nums = [0,1,0,3,12]"
   ]
  },
  {
   "cell_type": "code",
   "execution_count": 21,
   "id": "17c9bd7d",
   "metadata": {},
   "outputs": [
    {
     "data": {
      "text/plain": [
       "[1, 3, 12, 0, 0]"
      ]
     },
     "execution_count": 21,
     "metadata": {},
     "output_type": "execute_result"
    }
   ],
   "source": [
    "move_zeros(nums)"
   ]
  },
  {
   "cell_type": "code",
   "execution_count": 22,
   "id": "35bb3fea",
   "metadata": {},
   "outputs": [],
   "source": [
    "nums = [0]"
   ]
  },
  {
   "cell_type": "code",
   "execution_count": 23,
   "id": "c3962294",
   "metadata": {},
   "outputs": [
    {
     "data": {
      "text/plain": [
       "[0]"
      ]
     },
     "execution_count": 23,
     "metadata": {},
     "output_type": "execute_result"
    }
   ],
   "source": [
    "move_zeros(nums)"
   ]
  },
  {
   "cell_type": "code",
   "execution_count": 24,
   "id": "1c3417c8",
   "metadata": {},
   "outputs": [],
   "source": [
    "nums = [123, 23, -0 ,0 ,423, 23, 0 ,-2, -23, 0, -245]"
   ]
  },
  {
   "cell_type": "code",
   "execution_count": 25,
   "id": "e4657dbf",
   "metadata": {},
   "outputs": [
    {
     "data": {
      "text/plain": [
       "[123, 23, 423, 23, -2, -23, -245, 0, 0, 0, 0]"
      ]
     },
     "execution_count": 25,
     "metadata": {},
     "output_type": "execute_result"
    }
   ],
   "source": [
    "move_zeros(nums)"
   ]
  },
  {
   "cell_type": "code",
   "execution_count": null,
   "id": "6270eb9a",
   "metadata": {},
   "outputs": [],
   "source": []
  }
 ],
 "metadata": {
  "kernelspec": {
   "display_name": "Python 3 (ipykernel)",
   "language": "python",
   "name": "python3"
  },
  "language_info": {
   "codemirror_mode": {
    "name": "ipython",
    "version": 3
   },
   "file_extension": ".py",
   "mimetype": "text/x-python",
   "name": "python",
   "nbconvert_exporter": "python",
   "pygments_lexer": "ipython3",
   "version": "3.10.9"
  }
 },
 "nbformat": 4,
 "nbformat_minor": 5
}
