{
 "cells": [
  {
   "cell_type": "code",
   "execution_count": 19,
   "id": "c9844780",
   "metadata": {},
   "outputs": [],
   "source": [
    "def fucis(s):\n",
    "    \n",
    "    '''\n",
    "        Checks for every character in string if its repeating or not...\n",
    "        If anyone character doesn't repeats itself then return that character\n",
    "    '''\n",
    "    for i in range(len(s)):\n",
    "        if s[i] not in s[:i] + s[i+1:]:\n",
    "            return i\n",
    "    return -1"
   ]
  },
  {
   "cell_type": "code",
   "execution_count": 12,
   "id": "57855916",
   "metadata": {},
   "outputs": [],
   "source": [
    "s = \"leetcode\""
   ]
  },
  {
   "cell_type": "code",
   "execution_count": 13,
   "id": "a5d32164",
   "metadata": {},
   "outputs": [
    {
     "data": {
      "text/plain": [
       "0"
      ]
     },
     "execution_count": 13,
     "metadata": {},
     "output_type": "execute_result"
    }
   ],
   "source": [
    "fucis(s)"
   ]
  },
  {
   "cell_type": "code",
   "execution_count": 14,
   "id": "bfc3e070",
   "metadata": {},
   "outputs": [],
   "source": [
    "s = \"loveleetcode\""
   ]
  },
  {
   "cell_type": "code",
   "execution_count": 15,
   "id": "a2e91268",
   "metadata": {},
   "outputs": [
    {
     "data": {
      "text/plain": [
       "2"
      ]
     },
     "execution_count": 15,
     "metadata": {},
     "output_type": "execute_result"
    }
   ],
   "source": [
    "fucis(s)"
   ]
  },
  {
   "cell_type": "code",
   "execution_count": 16,
   "id": "458f174a",
   "metadata": {},
   "outputs": [],
   "source": [
    "s = \"aabb\""
   ]
  },
  {
   "cell_type": "code",
   "execution_count": 17,
   "id": "45282e51",
   "metadata": {},
   "outputs": [
    {
     "data": {
      "text/plain": [
       "-1"
      ]
     },
     "execution_count": 17,
     "metadata": {},
     "output_type": "execute_result"
    }
   ],
   "source": [
    "fucis(s)"
   ]
  },
  {
   "cell_type": "code",
   "execution_count": null,
   "id": "9c81d640",
   "metadata": {},
   "outputs": [],
   "source": []
  }
 ],
 "metadata": {
  "kernelspec": {
   "display_name": "Python 3 (ipykernel)",
   "language": "python",
   "name": "python3"
  },
  "language_info": {
   "codemirror_mode": {
    "name": "ipython",
    "version": 3
   },
   "file_extension": ".py",
   "mimetype": "text/x-python",
   "name": "python",
   "nbconvert_exporter": "python",
   "pygments_lexer": "ipython3",
   "version": "3.10.9"
  }
 },
 "nbformat": 4,
 "nbformat_minor": 5
}
